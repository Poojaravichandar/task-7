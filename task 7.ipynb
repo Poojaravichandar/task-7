{
 "cells": [
  {
   "cell_type": "code",
   "execution_count": 1,
   "metadata": {},
   "outputs": [
    {
     "name": "stdout",
     "output_type": "stream",
     "text": [
      "Text file 'timestamp_2024-03-28_14-21-13.txt' created with the content of the current timestamp.\n"
     ]
    }
   ],
   "source": [
    "from datetime import datetime\n",
    "\n",
    "def create_text_file_with_timestamp():\n",
    "    # Get the current timestamp\n",
    "    current_timestamp = datetime.now().strftime(\"%Y-%m-%d_%H-%M-%S\")\n",
    "\n",
    "    # Create the filename using the current timestamp\n",
    "    filename = f\"timestamp_{current_timestamp}.txt\"\n",
    "\n",
    "    # Write the current timestamp to the file\n",
    "    with open(filename, \"w\") as file:\n",
    "        file.write(current_timestamp)\n",
    "\n",
    "    print(f\"Text file '{filename}' created with the content of the current timestamp.\")\n",
    "\n",
    "# Example usage\n",
    "create_text_file_with_timestamp()"
   ]
  },
  {
   "cell_type": "code",
   "execution_count": 2,
   "metadata": {},
   "outputs": [
    {
     "name": "stdout",
     "output_type": "stream",
     "text": [
      "File 'example.txt' not found.\n"
     ]
    }
   ],
   "source": [
    "def display_file_content(filename):\n",
    "    try:\n",
    "        with open(filename, \"r\") as file:\n",
    "            content = file.read()\n",
    "            print(\"Content of the file:\")\n",
    "            print(content)\n",
    "    except FileNotFoundError:\n",
    "        print(f\"File '{filename}' not found.\")\n",
    "    except Exception as e:\n",
    "        print(f\"An error occurred: {str(e)}\")\n",
    "\n",
    "# Example usage\n",
    "filename = \"example.txt\"  # Specify the filename here\n",
    "display_file_content(filename)"
   ]
  },
  {
   "cell_type": "code",
   "execution_count": null,
   "metadata": {},
   "outputs": [],
   "source": []
  }
 ],
 "metadata": {
  "kernelspec": {
   "display_name": "Python 3",
   "language": "python",
   "name": "python3"
  },
  "language_info": {
   "codemirror_mode": {
    "name": "ipython",
    "version": 3
   },
   "file_extension": ".py",
   "mimetype": "text/x-python",
   "name": "python",
   "nbconvert_exporter": "python",
   "pygments_lexer": "ipython3",
   "version": "3.12.2"
  }
 },
 "nbformat": 4,
 "nbformat_minor": 2
}
